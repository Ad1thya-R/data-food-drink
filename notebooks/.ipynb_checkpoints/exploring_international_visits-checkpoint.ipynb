{
 "cells": [
  {
   "cell_type": "code",
   "execution_count": 2,
   "metadata": {},
   "outputs": [
    {
     "name": "stdout",
     "output_type": "stream",
     "text": [
      "UK_inflation.csv                     london_taxpayer_income.csv\r\n",
      "UK_international-visits.csv          london_ticket_sales.csv\r\n",
      "london_earnings_by_borough.csv       london_tickets_for_sale.csv\r\n",
      "london_economic_activity.csv         london_underground_activity.csv\r\n",
      "london_infrastructure_spending.csv   london_underground_station_info.csv\r\n",
      "london_sports_participation.csv      museums.xlsx\r\n"
     ]
    }
   ],
   "source": [
    "%ls ../data/"
   ]
  },
  {
   "cell_type": "code",
   "execution_count": 4,
   "metadata": {},
   "outputs": [],
   "source": [
    "import numpy as np\n",
    "import pandas as pd\n",
    "import matplotlib.pyplot as plt"
   ]
  },
  {
   "cell_type": "code",
   "execution_count": 7,
   "metadata": {},
   "outputs": [],
   "source": [
    "international_visits = pd.read_csv('../data/UK_international-visits.csv', low_memory=False)"
   ]
  },
  {
   "cell_type": "code",
   "execution_count": 10,
   "metadata": {},
   "outputs": [
    {
     "data": {
      "text/html": [
       "<div>\n",
       "<style scoped>\n",
       "    .dataframe tbody tr th:only-of-type {\n",
       "        vertical-align: middle;\n",
       "    }\n",
       "\n",
       "    .dataframe tbody tr th {\n",
       "        vertical-align: top;\n",
       "    }\n",
       "\n",
       "    .dataframe thead th {\n",
       "        text-align: right;\n",
       "    }\n",
       "</style>\n",
       "<table border=\"1\" class=\"dataframe\">\n",
       "  <thead>\n",
       "    <tr style=\"text-align: right;\">\n",
       "      <th></th>\n",
       "      <th>year</th>\n",
       "      <th>quarter</th>\n",
       "      <th>market</th>\n",
       "      <th>dur_stay</th>\n",
       "      <th>mode</th>\n",
       "      <th>purpose</th>\n",
       "      <th>area</th>\n",
       "      <th>visits</th>\n",
       "      <th>spend</th>\n",
       "      <th>nights</th>\n",
       "      <th>sample</th>\n",
       "    </tr>\n",
       "  </thead>\n",
       "  <tbody>\n",
       "    <tr>\n",
       "      <th>0</th>\n",
       "      <td>2002</td>\n",
       "      <td>January-March</td>\n",
       "      <td>Belgium</td>\n",
       "      <td>1-3 nights</td>\n",
       "      <td>Air</td>\n",
       "      <td>Holiday</td>\n",
       "      <td>TOTAL ENGLAND</td>\n",
       "      <td>4.431616</td>\n",
       "      <td>1.013484</td>\n",
       "      <td>9.530416</td>\n",
       "      <td>6</td>\n",
       "    </tr>\n",
       "    <tr>\n",
       "      <th>1</th>\n",
       "      <td>2002</td>\n",
       "      <td>January-March</td>\n",
       "      <td>Belgium</td>\n",
       "      <td>1-3 nights</td>\n",
       "      <td>Air</td>\n",
       "      <td>Holiday</td>\n",
       "      <td>LONDON</td>\n",
       "      <td>3.572186</td>\n",
       "      <td>0.969138</td>\n",
       "      <td>6.954456</td>\n",
       "      <td>5</td>\n",
       "    </tr>\n",
       "    <tr>\n",
       "      <th>2</th>\n",
       "      <td>2002</td>\n",
       "      <td>January-March</td>\n",
       "      <td>Belgium</td>\n",
       "      <td>1-3 nights</td>\n",
       "      <td>Air</td>\n",
       "      <td>Holiday</td>\n",
       "      <td>REST OF ENGLAND</td>\n",
       "      <td>0.859430</td>\n",
       "      <td>0.044346</td>\n",
       "      <td>2.575960</td>\n",
       "      <td>1</td>\n",
       "    </tr>\n",
       "    <tr>\n",
       "      <th>3</th>\n",
       "      <td>2002</td>\n",
       "      <td>January-March</td>\n",
       "      <td>Belgium</td>\n",
       "      <td>1-3 nights</td>\n",
       "      <td>Air</td>\n",
       "      <td>Holiday</td>\n",
       "      <td>SOUTHERN ENGLAND</td>\n",
       "      <td>0.859430</td>\n",
       "      <td>0.044346</td>\n",
       "      <td>2.575960</td>\n",
       "      <td>1</td>\n",
       "    </tr>\n",
       "    <tr>\n",
       "      <th>4</th>\n",
       "      <td>2002</td>\n",
       "      <td>January-March</td>\n",
       "      <td>Belgium</td>\n",
       "      <td>1-3 nights</td>\n",
       "      <td>Air</td>\n",
       "      <td>Holiday</td>\n",
       "      <td>SOUTH EAST</td>\n",
       "      <td>0.859430</td>\n",
       "      <td>0.044346</td>\n",
       "      <td>2.575960</td>\n",
       "      <td>1</td>\n",
       "    </tr>\n",
       "  </tbody>\n",
       "</table>\n",
       "</div>"
      ],
      "text/plain": [
       "   year        quarter   market    dur_stay mode  purpose              area  \\\n",
       "0  2002  January-March  Belgium  1-3 nights  Air  Holiday     TOTAL ENGLAND   \n",
       "1  2002  January-March  Belgium  1-3 nights  Air  Holiday            LONDON   \n",
       "2  2002  January-March  Belgium  1-3 nights  Air  Holiday   REST OF ENGLAND   \n",
       "3  2002  January-March  Belgium  1-3 nights  Air  Holiday  SOUTHERN ENGLAND   \n",
       "4  2002  January-March  Belgium  1-3 nights  Air  Holiday        SOUTH EAST   \n",
       "\n",
       "     visits     spend    nights  sample  \n",
       "0  4.431616  1.013484  9.530416       6  \n",
       "1  3.572186  0.969138  6.954456       5  \n",
       "2  0.859430  0.044346  2.575960       1  \n",
       "3  0.859430  0.044346  2.575960       1  \n",
       "4  0.859430  0.044346  2.575960       1  "
      ]
     },
     "execution_count": 10,
     "metadata": {},
     "output_type": "execute_result"
    }
   ],
   "source": [
    "international_visits.head()"
   ]
  },
  {
   "cell_type": "code",
   "execution_count": 11,
   "metadata": {},
   "outputs": [
    {
     "data": {
      "text/plain": [
       "<bound method DataFrame.info of          year         quarter        market    dur_stay mode        purpose  \\\n",
       "0        2002   January-March       Belgium  1-3 nights  Air        Holiday   \n",
       "1        2002   January-March       Belgium  1-3 nights  Air        Holiday   \n",
       "2        2002   January-March       Belgium  1-3 nights  Air        Holiday   \n",
       "3        2002   January-March       Belgium  1-3 nights  Air        Holiday   \n",
       "4        2002   January-March       Belgium  1-3 nights  Air        Holiday   \n",
       "...       ...             ...           ...         ...  ...            ...   \n",
       "549848  2019P  July-September  Other Africa  15+ nights  Air          Study   \n",
       "549849  2019P  July-September  Other Africa  15+ nights  Air  Miscellaneous   \n",
       "549850  2019P  July-September  Other Africa  15+ nights  Air  Miscellaneous   \n",
       "549851  2019P  July-September  Other Africa  15+ nights  Air  Miscellaneous   \n",
       "549852  2019P  July-September  Other Africa  15+ nights  Air  Miscellaneous   \n",
       "\n",
       "                      area    visits     spend     nights  sample  \n",
       "0            TOTAL ENGLAND  4.431616  1.013484   9.530416       6  \n",
       "1                   LONDON  3.572186  0.969138   6.954456       5  \n",
       "2          REST OF ENGLAND  0.859430  0.044346   2.575960       1  \n",
       "3         SOUTHERN ENGLAND  0.859430  0.044346   2.575960       1  \n",
       "4               SOUTH EAST  0.859430  0.044346   2.575960       1  \n",
       "...                    ...       ...       ...        ...     ...  \n",
       "549848  ALL STAYING VISITS  0.464177  0.835519  41.775928       1  \n",
       "549849       TOTAL ENGLAND  1.071057  1.122145  21.994084       2  \n",
       "549850              LONDON  1.071057  1.122145  21.994084       2  \n",
       "549851               WALES  0.572944  0.176619   5.729440       1  \n",
       "549852  ALL STAYING VISITS  1.071057  1.298764  27.723525       2  \n",
       "\n",
       "[549853 rows x 11 columns]>"
      ]
     },
     "execution_count": 11,
     "metadata": {},
     "output_type": "execute_result"
    }
   ],
   "source": [
    "international_visits.info"
   ]
  },
  {
   "cell_type": "code",
   "execution_count": 17,
   "metadata": {},
   "outputs": [
    {
     "data": {
      "text/html": [
       "<div>\n",
       "<style scoped>\n",
       "    .dataframe tbody tr th:only-of-type {\n",
       "        vertical-align: middle;\n",
       "    }\n",
       "\n",
       "    .dataframe tbody tr th {\n",
       "        vertical-align: top;\n",
       "    }\n",
       "\n",
       "    .dataframe thead th {\n",
       "        text-align: right;\n",
       "    }\n",
       "</style>\n",
       "<table border=\"1\" class=\"dataframe\">\n",
       "  <thead>\n",
       "    <tr style=\"text-align: right;\">\n",
       "      <th></th>\n",
       "      <th>visits</th>\n",
       "      <th>spend</th>\n",
       "      <th>nights</th>\n",
       "      <th>sample</th>\n",
       "    </tr>\n",
       "  </thead>\n",
       "  <tbody>\n",
       "    <tr>\n",
       "      <th>count</th>\n",
       "      <td>549853.000000</td>\n",
       "      <td>549853.000000</td>\n",
       "      <td>549853.000000</td>\n",
       "      <td>549853.000000</td>\n",
       "    </tr>\n",
       "    <tr>\n",
       "      <th>mean</th>\n",
       "      <td>3.969457</td>\n",
       "      <td>2.080865</td>\n",
       "      <td>30.676032</td>\n",
       "      <td>4.767247</td>\n",
       "    </tr>\n",
       "    <tr>\n",
       "      <th>std</th>\n",
       "      <td>9.020391</td>\n",
       "      <td>5.604786</td>\n",
       "      <td>78.772635</td>\n",
       "      <td>11.407663</td>\n",
       "    </tr>\n",
       "    <tr>\n",
       "      <th>min</th>\n",
       "      <td>0.000074</td>\n",
       "      <td>-0.001175</td>\n",
       "      <td>0.000074</td>\n",
       "      <td>1.000000</td>\n",
       "    </tr>\n",
       "    <tr>\n",
       "      <th>25%</th>\n",
       "      <td>0.668607</td>\n",
       "      <td>0.167571</td>\n",
       "      <td>3.018618</td>\n",
       "      <td>1.000000</td>\n",
       "    </tr>\n",
       "    <tr>\n",
       "      <th>50%</th>\n",
       "      <td>1.424565</td>\n",
       "      <td>0.568171</td>\n",
       "      <td>8.536660</td>\n",
       "      <td>2.000000</td>\n",
       "    </tr>\n",
       "    <tr>\n",
       "      <th>75%</th>\n",
       "      <td>3.381695</td>\n",
       "      <td>1.804449</td>\n",
       "      <td>25.256599</td>\n",
       "      <td>4.000000</td>\n",
       "    </tr>\n",
       "    <tr>\n",
       "      <th>max</th>\n",
       "      <td>228.009367</td>\n",
       "      <td>421.554611</td>\n",
       "      <td>4028.559570</td>\n",
       "      <td>336.000000</td>\n",
       "    </tr>\n",
       "  </tbody>\n",
       "</table>\n",
       "</div>"
      ],
      "text/plain": [
       "              visits          spend         nights         sample\n",
       "count  549853.000000  549853.000000  549853.000000  549853.000000\n",
       "mean        3.969457       2.080865      30.676032       4.767247\n",
       "std         9.020391       5.604786      78.772635      11.407663\n",
       "min         0.000074      -0.001175       0.000074       1.000000\n",
       "25%         0.668607       0.167571       3.018618       1.000000\n",
       "50%         1.424565       0.568171       8.536660       2.000000\n",
       "75%         3.381695       1.804449      25.256599       4.000000\n",
       "max       228.009367     421.554611    4028.559570     336.000000"
      ]
     },
     "execution_count": 17,
     "metadata": {},
     "output_type": "execute_result"
    }
   ],
   "source": [
    "international_visits.describe()"
   ]
  },
  {
   "cell_type": "code",
   "execution_count": 18,
   "metadata": {},
   "outputs": [],
   "source": [
    "mapper = {'2019P': 2019}"
   ]
  },
  {
   "cell_type": "code",
   "execution_count": 21,
   "metadata": {},
   "outputs": [],
   "source": [
    "international_visits['year'].replace(mapper, inplace=True)"
   ]
  },
  {
   "cell_type": "code",
   "execution_count": 46,
   "metadata": {},
   "outputs": [],
   "source": [
    "international_visits['year'] = international_visits['year'].astype(int)"
   ]
  },
  {
   "cell_type": "code",
   "execution_count": 48,
   "metadata": {},
   "outputs": [
    {
     "data": {
      "text/plain": [
       "year          int64\n",
       "quarter      object\n",
       "market       object\n",
       "dur_stay     object\n",
       "mode         object\n",
       "purpose      object\n",
       "area         object\n",
       "visits      float64\n",
       "spend       float64\n",
       "nights      float64\n",
       "sample        int64\n",
       "dtype: object"
      ]
     },
     "execution_count": 48,
     "metadata": {},
     "output_type": "execute_result"
    }
   ],
   "source": [
    "international_visits.dtypes"
   ]
  },
  {
   "cell_type": "code",
   "execution_count": 27,
   "metadata": {},
   "outputs": [
    {
     "data": {
      "text/plain": [
       "ALL STAYING VISITS         76243\n",
       "TOTAL ENGLAND              74519\n",
       "LONDON                     59804\n",
       "REST OF ENGLAND            55966\n",
       "SOUTHERN ENGLAND           40481\n",
       "SOUTH EAST                 34174\n",
       "CENTRAL ENGLAND            32242\n",
       "ENGLAND'S NORTH COUNTRY    28881\n",
       "NORTH WEST                 21570\n",
       "SOUTH WEST                 21001\n",
       "EAST OF ENGLAND            20546\n",
       "SCOTLAND                   18191\n",
       "WEST MIDLANDS              16822\n",
       "YORKSHIRE                  13973\n",
       "EAST MIDLANDS              12380\n",
       "WALES                      11457\n",
       "NORTH EAST                  6972\n",
       " NORTHERN IRELAND           3023\n",
       " OIL RIGS/TRAVELLING        1037\n",
       " ISLE OF MAN                 294\n",
       " CHANNEL ISLANDS             277\n",
       "Name: area, dtype: int64"
      ]
     },
     "execution_count": 27,
     "metadata": {},
     "output_type": "execute_result"
    }
   ],
   "source": [
    "international_visits['area'].value_counts()"
   ]
  },
  {
   "cell_type": "code",
   "execution_count": 28,
   "metadata": {},
   "outputs": [
    {
     "data": {
      "text/plain": [
       "July-September      162866\n",
       "April-June          141358\n",
       "January-March       123120\n",
       "October-December    122509\n",
       "Name: quarter, dtype: int64"
      ]
     },
     "execution_count": 28,
     "metadata": {},
     "output_type": "execute_result"
    }
   ],
   "source": [
    "international_visits['quarter'].value_counts()"
   ]
  },
  {
   "cell_type": "code",
   "execution_count": 49,
   "metadata": {},
   "outputs": [
    {
     "data": {
      "text/plain": [
       "<pandas.core.groupby.generic.DataFrameGroupBy object at 0x1193e8e10>"
      ]
     },
     "execution_count": 49,
     "metadata": {},
     "output_type": "execute_result"
    }
   ],
   "source": [
    "international_visits_london_summer = international_visits[(international_visits['area'] == 'LONDON') & \n",
    "                                                          (international_visits['quarter'] == 'July-September')]\n",
    "\n",
    "international_visits_london_summer.groupby(['year'])"
   ]
  },
  {
   "cell_type": "code",
   "execution_count": 51,
   "metadata": {},
   "outputs": [
    {
     "data": {
      "text/html": [
       "<div>\n",
       "<style scoped>\n",
       "    .dataframe tbody tr th:only-of-type {\n",
       "        vertical-align: middle;\n",
       "    }\n",
       "\n",
       "    .dataframe tbody tr th {\n",
       "        vertical-align: top;\n",
       "    }\n",
       "\n",
       "    .dataframe thead th {\n",
       "        text-align: right;\n",
       "    }\n",
       "</style>\n",
       "<table border=\"1\" class=\"dataframe\">\n",
       "  <thead>\n",
       "    <tr style=\"text-align: right;\">\n",
       "      <th></th>\n",
       "      <th>visits</th>\n",
       "      <th>spend</th>\n",
       "      <th>nights</th>\n",
       "      <th>sample</th>\n",
       "    </tr>\n",
       "    <tr>\n",
       "      <th>year</th>\n",
       "      <th></th>\n",
       "      <th></th>\n",
       "      <th></th>\n",
       "      <th></th>\n",
       "    </tr>\n",
       "  </thead>\n",
       "  <tbody>\n",
       "    <tr>\n",
       "      <th>2002</th>\n",
       "      <td>3501.537392</td>\n",
       "      <td>1748.546459</td>\n",
       "      <td>25009.334358</td>\n",
       "      <td>6270</td>\n",
       "    </tr>\n",
       "    <tr>\n",
       "      <th>2003</th>\n",
       "      <td>3445.821833</td>\n",
       "      <td>1858.629631</td>\n",
       "      <td>25908.338488</td>\n",
       "      <td>5628</td>\n",
       "    </tr>\n",
       "    <tr>\n",
       "      <th>2004</th>\n",
       "      <td>3868.168715</td>\n",
       "      <td>1834.113920</td>\n",
       "      <td>30362.000373</td>\n",
       "      <td>6204</td>\n",
       "    </tr>\n",
       "    <tr>\n",
       "      <th>2005</th>\n",
       "      <td>3723.463661</td>\n",
       "      <td>1844.329487</td>\n",
       "      <td>28852.400432</td>\n",
       "      <td>6187</td>\n",
       "    </tr>\n",
       "    <tr>\n",
       "      <th>2006</th>\n",
       "      <td>4688.816687</td>\n",
       "      <td>2381.074553</td>\n",
       "      <td>34014.403301</td>\n",
       "      <td>6652</td>\n",
       "    </tr>\n",
       "    <tr>\n",
       "      <th>2007</th>\n",
       "      <td>4343.078530</td>\n",
       "      <td>2461.567132</td>\n",
       "      <td>28972.263903</td>\n",
       "      <td>5318</td>\n",
       "    </tr>\n",
       "    <tr>\n",
       "      <th>2008</th>\n",
       "      <td>4130.338374</td>\n",
       "      <td>2345.695324</td>\n",
       "      <td>29753.496875</td>\n",
       "      <td>4447</td>\n",
       "    </tr>\n",
       "    <tr>\n",
       "      <th>2009</th>\n",
       "      <td>4023.865101</td>\n",
       "      <td>2419.755295</td>\n",
       "      <td>28027.813351</td>\n",
       "      <td>5897</td>\n",
       "    </tr>\n",
       "    <tr>\n",
       "      <th>2010</th>\n",
       "      <td>4285.270969</td>\n",
       "      <td>2460.263167</td>\n",
       "      <td>30519.986003</td>\n",
       "      <td>6507</td>\n",
       "    </tr>\n",
       "    <tr>\n",
       "      <th>2011</th>\n",
       "      <td>4427.025490</td>\n",
       "      <td>2819.220994</td>\n",
       "      <td>31657.414139</td>\n",
       "      <td>4965</td>\n",
       "    </tr>\n",
       "    <tr>\n",
       "      <th>2012</th>\n",
       "      <td>4082.260895</td>\n",
       "      <td>3212.410503</td>\n",
       "      <td>30486.681325</td>\n",
       "      <td>5324</td>\n",
       "    </tr>\n",
       "    <tr>\n",
       "      <th>2013</th>\n",
       "      <td>4819.729032</td>\n",
       "      <td>3373.471667</td>\n",
       "      <td>33250.109850</td>\n",
       "      <td>5919</td>\n",
       "    </tr>\n",
       "    <tr>\n",
       "      <th>2014</th>\n",
       "      <td>4945.598666</td>\n",
       "      <td>3627.178942</td>\n",
       "      <td>33971.493590</td>\n",
       "      <td>5123</td>\n",
       "    </tr>\n",
       "    <tr>\n",
       "      <th>2015</th>\n",
       "      <td>5237.745131</td>\n",
       "      <td>3476.289274</td>\n",
       "      <td>35386.477351</td>\n",
       "      <td>5284</td>\n",
       "    </tr>\n",
       "    <tr>\n",
       "      <th>2016</th>\n",
       "      <td>5199.559522</td>\n",
       "      <td>3363.584783</td>\n",
       "      <td>35093.182480</td>\n",
       "      <td>5200</td>\n",
       "    </tr>\n",
       "    <tr>\n",
       "      <th>2017</th>\n",
       "      <td>5242.301766</td>\n",
       "      <td>4387.153412</td>\n",
       "      <td>35039.391780</td>\n",
       "      <td>4982</td>\n",
       "    </tr>\n",
       "    <tr>\n",
       "      <th>2018</th>\n",
       "      <td>5246.352969</td>\n",
       "      <td>3536.003095</td>\n",
       "      <td>33425.551694</td>\n",
       "      <td>3759</td>\n",
       "    </tr>\n",
       "    <tr>\n",
       "      <th>2019</th>\n",
       "      <td>5747.252751</td>\n",
       "      <td>4017.212292</td>\n",
       "      <td>34652.732876</td>\n",
       "      <td>4282</td>\n",
       "    </tr>\n",
       "  </tbody>\n",
       "</table>\n",
       "</div>"
      ],
      "text/plain": [
       "           visits        spend        nights  sample\n",
       "year                                                \n",
       "2002  3501.537392  1748.546459  25009.334358    6270\n",
       "2003  3445.821833  1858.629631  25908.338488    5628\n",
       "2004  3868.168715  1834.113920  30362.000373    6204\n",
       "2005  3723.463661  1844.329487  28852.400432    6187\n",
       "2006  4688.816687  2381.074553  34014.403301    6652\n",
       "2007  4343.078530  2461.567132  28972.263903    5318\n",
       "2008  4130.338374  2345.695324  29753.496875    4447\n",
       "2009  4023.865101  2419.755295  28027.813351    5897\n",
       "2010  4285.270969  2460.263167  30519.986003    6507\n",
       "2011  4427.025490  2819.220994  31657.414139    4965\n",
       "2012  4082.260895  3212.410503  30486.681325    5324\n",
       "2013  4819.729032  3373.471667  33250.109850    5919\n",
       "2014  4945.598666  3627.178942  33971.493590    5123\n",
       "2015  5237.745131  3476.289274  35386.477351    5284\n",
       "2016  5199.559522  3363.584783  35093.182480    5200\n",
       "2017  5242.301766  4387.153412  35039.391780    4982\n",
       "2018  5246.352969  3536.003095  33425.551694    3759\n",
       "2019  5747.252751  4017.212292  34652.732876    4282"
      ]
     },
     "execution_count": 51,
     "metadata": {},
     "output_type": "execute_result"
    }
   ],
   "source": [
    "df = international_visits_london_summer.groupby('year').sum()\n",
    "df"
   ]
  },
  {
   "cell_type": "code",
   "execution_count": 109,
   "metadata": {},
   "outputs": [
    {
     "data": {
      "text/plain": [
       "[<matplotlib.lines.Line2D at 0x11f5da150>]"
      ]
     },
     "execution_count": 109,
     "metadata": {},
     "output_type": "execute_result"
    },
    {
     "data": {
      "image/png": "[encoded data removed]",
      "text/plain": [
       "<Figure size 1080x360 with 1 Axes>"
      ]
     },
     "metadata": {
      "needs_background": "light"
     },
     "output_type": "display_data"
    }
   ],
   "source": [
    "plt.figure(figsize=[15, 5])\n",
    "plt.xlim([2001, 2020])\n",
    "plt.plot(df.index, df['spend'])"
   ]
  },
  {
   "cell_type": "code",
   "execution_count": null,
   "metadata": {},
   "outputs": [],
   "source": []
  },
  {
   "cell_type": "code",
   "execution_count": null,
   "metadata": {},
   "outputs": [],
   "source": []
  }
 ],
 "metadata": {
  "kernelspec": {
   "display_name": "Python 3",
   "language": "python",
   "name": "python3"
  },
  "language_info": {
   "codemirror_mode": {
    "name": "ipython",
    "version": 3
   },
   "file_extension": ".py",
   "mimetype": "text/x-python",
   "name": "python",
   "nbconvert_exporter": "python",
   "pygments_lexer": "ipython3",
   "version": "3.7.6"
  }
 },
 "nbformat": 4,
 "nbformat_minor": 4
}
