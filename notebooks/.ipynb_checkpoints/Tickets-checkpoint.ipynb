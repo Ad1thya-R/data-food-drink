{
 "cells": [
  {
   "cell_type": "code",
   "execution_count": 1,
   "metadata": {},
   "outputs": [],
   "source": [
    "import pandas as pd\n",
    "import numpy as np\n",
    "import matplotlib.pyplot as plt"
   ]
  },
  {
   "cell_type": "code",
   "execution_count": 2,
   "metadata": {},
   "outputs": [
    {
     "name": "stderr",
     "output_type": "stream",
     "text": [
      "Parameter format not correct - \"data\".\n"
     ]
    }
   ],
   "source": [
    "%ls ../data/"
   ]
  },
  {
   "cell_type": "code",
   "execution_count": 3,
   "metadata": {},
   "outputs": [],
   "source": [
    "sold_tickets = pd.read_csv('../data/london_ticket_sales.csv')\n",
    "all_tickets = pd.read_csv('../data/london_tickets_for_sale.csv', encoding='latin1')\n",
    "infra = pd.read_csv('../data/london_infrastructure_spending.csv', encoding='latin1')"
   ]
  },
  {
   "cell_type": "code",
   "execution_count": 4,
   "metadata": {},
   "outputs": [
    {
     "data": {
      "text/html": [
       "<div>\n",
       "<style scoped>\n",
       "    .dataframe tbody tr th:only-of-type {\n",
       "        vertical-align: middle;\n",
       "    }\n",
       "\n",
       "    .dataframe tbody tr th {\n",
       "        vertical-align: top;\n",
       "    }\n",
       "\n",
       "    .dataframe thead th {\n",
       "        text-align: right;\n",
       "    }\n",
       "</style>\n",
       "<table border=\"1\" class=\"dataframe\">\n",
       "  <thead>\n",
       "    <tr style=\"text-align: right;\">\n",
       "      <th></th>\n",
       "      <th>session</th>\n",
       "      <th>price</th>\n",
       "      <th>number_sold</th>\n",
       "      <th>total_public_sold</th>\n",
       "      <th>percent_sold_to_public</th>\n",
       "    </tr>\n",
       "  </thead>\n",
       "  <tbody>\n",
       "    <tr>\n",
       "      <th>0</th>\n",
       "      <td>AT001</td>\n",
       "      <td>150</td>\n",
       "      <td>16704</td>\n",
       "      <td>46425.0</td>\n",
       "      <td>73.155166</td>\n",
       "    </tr>\n",
       "    <tr>\n",
       "      <th>1</th>\n",
       "      <td>AT001</td>\n",
       "      <td>95</td>\n",
       "      <td>7193</td>\n",
       "      <td>46425.0</td>\n",
       "      <td>73.155166</td>\n",
       "    </tr>\n",
       "    <tr>\n",
       "      <th>2</th>\n",
       "      <td>AT001</td>\n",
       "      <td>65</td>\n",
       "      <td>6721</td>\n",
       "      <td>46425.0</td>\n",
       "      <td>73.155166</td>\n",
       "    </tr>\n",
       "    <tr>\n",
       "      <th>3</th>\n",
       "      <td>AT001</td>\n",
       "      <td>40</td>\n",
       "      <td>4434</td>\n",
       "      <td>46425.0</td>\n",
       "      <td>73.155166</td>\n",
       "    </tr>\n",
       "    <tr>\n",
       "      <th>4</th>\n",
       "      <td>AT001</td>\n",
       "      <td>20</td>\n",
       "      <td>5336</td>\n",
       "      <td>46425.0</td>\n",
       "      <td>73.155166</td>\n",
       "    </tr>\n",
       "  </tbody>\n",
       "</table>\n",
       "</div>"
      ],
      "text/plain": [
       "  session price  number_sold  total_public_sold  percent_sold_to_public\n",
       "0   AT001   150        16704            46425.0               73.155166\n",
       "1   AT001    95         7193            46425.0               73.155166\n",
       "2   AT001    65         6721            46425.0               73.155166\n",
       "3   AT001    40         4434            46425.0               73.155166\n",
       "4   AT001    20         5336            46425.0               73.155166"
      ]
     },
     "execution_count": 4,
     "metadata": {},
     "output_type": "execute_result"
    }
   ],
   "source": [
    "sold_tickets.head()"
   ]
  },
  {
   "cell_type": "code",
   "execution_count": 5,
   "metadata": {},
   "outputs": [
    {
     "data": {
      "text/html": [
       "<div>\n",
       "<style scoped>\n",
       "    .dataframe tbody tr th:only-of-type {\n",
       "        vertical-align: middle;\n",
       "    }\n",
       "\n",
       "    .dataframe tbody tr th {\n",
       "        vertical-align: top;\n",
       "    }\n",
       "\n",
       "    .dataframe thead th {\n",
       "        text-align: right;\n",
       "    }\n",
       "</style>\n",
       "<table border=\"1\" class=\"dataframe\">\n",
       "  <thead>\n",
       "    <tr style=\"text-align: right;\">\n",
       "      <th></th>\n",
       "      <th>date</th>\n",
       "      <th>time</th>\n",
       "      <th>gender</th>\n",
       "      <th>session</th>\n",
       "      <th>medal_ceremony</th>\n",
       "      <th>code</th>\n",
       "      <th>AA</th>\n",
       "      <th>A</th>\n",
       "      <th>B</th>\n",
       "      <th>C</th>\n",
       "      <th>D</th>\n",
       "      <th>E</th>\n",
       "      <th>limit</th>\n",
       "      <th>venue</th>\n",
       "      <th>event</th>\n",
       "    </tr>\n",
       "  </thead>\n",
       "  <tbody>\n",
       "    <tr>\n",
       "      <th>0</th>\n",
       "      <td>03-Aug</td>\n",
       "      <td>10:0013:45</td>\n",
       "      <td>M</td>\n",
       "      <td>400m Hurdles: round 1</td>\n",
       "      <td>NaN</td>\n",
       "      <td>AT001</td>\n",
       "      <td></td>\n",
       "      <td>150</td>\n",
       "      <td>95</td>\n",
       "      <td>65</td>\n",
       "      <td>40</td>\n",
       "      <td>20</td>\n",
       "      <td>20.0</td>\n",
       "      <td>Olympic Park - Olympic Stadium</td>\n",
       "      <td>Athletics</td>\n",
       "    </tr>\n",
       "    <tr>\n",
       "      <th>1</th>\n",
       "      <td>03-Aug</td>\n",
       "      <td>10:0013:45</td>\n",
       "      <td>M</td>\n",
       "      <td>3000m Steeplechase: round 1</td>\n",
       "      <td>NaN</td>\n",
       "      <td>AT001</td>\n",
       "      <td></td>\n",
       "      <td>150</td>\n",
       "      <td>95</td>\n",
       "      <td>65</td>\n",
       "      <td>40</td>\n",
       "      <td>20</td>\n",
       "      <td>20.0</td>\n",
       "      <td>Olympic Park - Olympic Stadium</td>\n",
       "      <td>Athletics</td>\n",
       "    </tr>\n",
       "    <tr>\n",
       "      <th>2</th>\n",
       "      <td>03-Aug</td>\n",
       "      <td>10:0013:45</td>\n",
       "      <td>M</td>\n",
       "      <td>Hammer: qualifying</td>\n",
       "      <td>NaN</td>\n",
       "      <td>AT001</td>\n",
       "      <td></td>\n",
       "      <td>150</td>\n",
       "      <td>95</td>\n",
       "      <td>65</td>\n",
       "      <td>40</td>\n",
       "      <td>20</td>\n",
       "      <td>20.0</td>\n",
       "      <td>Olympic Park - Olympic Stadium</td>\n",
       "      <td>Athletics</td>\n",
       "    </tr>\n",
       "    <tr>\n",
       "      <th>3</th>\n",
       "      <td>03-Aug</td>\n",
       "      <td>10:0013:45</td>\n",
       "      <td>M</td>\n",
       "      <td>Shot Put: qualifying</td>\n",
       "      <td>NaN</td>\n",
       "      <td>AT001</td>\n",
       "      <td></td>\n",
       "      <td>150</td>\n",
       "      <td>95</td>\n",
       "      <td>65</td>\n",
       "      <td>40</td>\n",
       "      <td>20</td>\n",
       "      <td>20.0</td>\n",
       "      <td>Olympic Park - Olympic Stadium</td>\n",
       "      <td>Athletics</td>\n",
       "    </tr>\n",
       "    <tr>\n",
       "      <th>4</th>\n",
       "      <td>03-Aug</td>\n",
       "      <td>10:0013:45</td>\n",
       "      <td>W</td>\n",
       "      <td>100m: classification heats</td>\n",
       "      <td>NaN</td>\n",
       "      <td>AT001</td>\n",
       "      <td></td>\n",
       "      <td>150</td>\n",
       "      <td>95</td>\n",
       "      <td>65</td>\n",
       "      <td>40</td>\n",
       "      <td>20</td>\n",
       "      <td>20.0</td>\n",
       "      <td>Olympic Park - Olympic Stadium</td>\n",
       "      <td>Athletics</td>\n",
       "    </tr>\n",
       "  </tbody>\n",
       "</table>\n",
       "</div>"
      ],
      "text/plain": [
       "     date         time gender                      session medal_ceremony  \\\n",
       "0  03-Aug  10:0013:45      M        400m Hurdles: round 1            NaN   \n",
       "1  03-Aug  10:0013:45      M  3000m Steeplechase: round 1            NaN   \n",
       "2  03-Aug  10:0013:45      M           Hammer: qualifying            NaN   \n",
       "3  03-Aug  10:0013:45      M         Shot Put: qualifying            NaN   \n",
       "4  03-Aug  10:0013:45      W   100m: classification heats            NaN   \n",
       "\n",
       "    code AA    A   B   C   D   E  limit                           venue  \\\n",
       "0  AT001    150  95  65  40  20   20.0  Olympic Park - Olympic Stadium   \n",
       "1  AT001    150  95  65  40  20   20.0  Olympic Park - Olympic Stadium   \n",
       "2  AT001    150  95  65  40  20   20.0  Olympic Park - Olympic Stadium   \n",
       "3  AT001    150  95  65  40  20   20.0  Olympic Park - Olympic Stadium   \n",
       "4  AT001    150  95  65  40  20   20.0  Olympic Park - Olympic Stadium   \n",
       "\n",
       "       event  \n",
       "0  Athletics  \n",
       "1  Athletics  \n",
       "2  Athletics  \n",
       "3  Athletics  \n",
       "4  Athletics  "
      ]
     },
     "execution_count": 5,
     "metadata": {},
     "output_type": "execute_result"
    }
   ],
   "source": [
    "all_tickets.head()"
   ]
  },
  {
   "cell_type": "code",
   "execution_count": 6,
   "metadata": {},
   "outputs": [
    {
     "data": {
      "text/html": [
       "<div>\n",
       "<style scoped>\n",
       "    .dataframe tbody tr th:only-of-type {\n",
       "        vertical-align: middle;\n",
       "    }\n",
       "\n",
       "    .dataframe tbody tr th {\n",
       "        vertical-align: top;\n",
       "    }\n",
       "\n",
       "    .dataframe thead th {\n",
       "        text-align: right;\n",
       "    }\n",
       "</style>\n",
       "<table border=\"1\" class=\"dataframe\">\n",
       "  <thead>\n",
       "    <tr style=\"text-align: right;\">\n",
       "      <th></th>\n",
       "      <th>expense_category</th>\n",
       "      <th>breakdown</th>\n",
       "      <th>baseline_budget</th>\n",
       "      <th>31/12/2011_forecast</th>\n",
       "      <th>31/03/2012_forecast</th>\n",
       "      <th>variance</th>\n",
       "    </tr>\n",
       "  </thead>\n",
       "  <tbody>\n",
       "    <tr>\n",
       "      <th>0</th>\n",
       "      <td>Site Preparation and Infrastructure</td>\n",
       "      <td>Powerlines</td>\n",
       "      <td>282.0</td>\n",
       "      <td>286</td>\n",
       "      <td>287</td>\n",
       "      <td>1.0</td>\n",
       "    </tr>\n",
       "    <tr>\n",
       "      <th>1</th>\n",
       "      <td>Site Preparation and Infrastructure</td>\n",
       "      <td>Utilities</td>\n",
       "      <td>256.0</td>\n",
       "      <td>238</td>\n",
       "      <td>235</td>\n",
       "      <td>-3.0</td>\n",
       "    </tr>\n",
       "    <tr>\n",
       "      <th>2</th>\n",
       "      <td>Site Preparation and Infrastructure</td>\n",
       "      <td>Enabling Works</td>\n",
       "      <td>364.0</td>\n",
       "      <td>386</td>\n",
       "      <td>386</td>\n",
       "      <td>0.0</td>\n",
       "    </tr>\n",
       "    <tr>\n",
       "      <th>3</th>\n",
       "      <td>Site Preparation and Infrastructure</td>\n",
       "      <td>F10 Bridge</td>\n",
       "      <td>89.0</td>\n",
       "      <td>56</td>\n",
       "      <td>55</td>\n",
       "      <td>-1.0</td>\n",
       "    </tr>\n",
       "    <tr>\n",
       "      <th>4</th>\n",
       "      <td>Site Preparation and Infrastructure</td>\n",
       "      <td>Other Structures, Bridges and Highways</td>\n",
       "      <td>740.0</td>\n",
       "      <td>553</td>\n",
       "      <td>565</td>\n",
       "      <td>12.0</td>\n",
       "    </tr>\n",
       "  </tbody>\n",
       "</table>\n",
       "</div>"
      ],
      "text/plain": [
       "                      expense_category  \\\n",
       "0  Site Preparation and Infrastructure   \n",
       "1  Site Preparation and Infrastructure   \n",
       "2  Site Preparation and Infrastructure   \n",
       "3  Site Preparation and Infrastructure   \n",
       "4  Site Preparation and Infrastructure   \n",
       "\n",
       "                                breakdown  baseline_budget  \\\n",
       "0                              Powerlines            282.0   \n",
       "1                               Utilities            256.0   \n",
       "2                          Enabling Works            364.0   \n",
       "3                              F10 Bridge             89.0   \n",
       "4  Other Structures, Bridges and Highways            740.0   \n",
       "\n",
       "   31/12/2011_forecast  31/03/2012_forecast  variance  \n",
       "0                  286                  287       1.0  \n",
       "1                  238                  235      -3.0  \n",
       "2                  386                  386       0.0  \n",
       "3                   56                   55      -1.0  \n",
       "4                  553                  565      12.0  "
      ]
     },
     "execution_count": 6,
     "metadata": {},
     "output_type": "execute_result"
    }
   ],
   "source": [
    "infra.head()"
   ]
  },
  {
   "cell_type": "code",
   "execution_count": 10,
   "metadata": {},
   "outputs": [],
   "source": [
    "session_codes = set(all_tickets['code'])"
   ]
  },
  {
   "cell_type": "code",
   "execution_count": 11,
   "metadata": {
    "scrolled": true
   },
   "outputs": [],
   "source": [
    "venues = set(all_tickets['venue'])"
   ]
  },
  {
   "cell_type": "code",
   "execution_count": 12,
   "metadata": {},
   "outputs": [],
   "source": [
    "venue_spendings = infra.loc[infra['expense_category'] == 'Venues']"
   ]
  },
  {
   "cell_type": "code",
   "execution_count": 15,
   "metadata": {},
   "outputs": [
    {
     "ename": "NotImplementedError",
     "evalue": "iLocation based boolean indexing on an integer type is not available",
     "output_type": "error",
     "traceback": [
      "\u001b[1;31m---------------------------------------------------------------------------\u001b[0m",
      "\u001b[1;31mNotImplementedError\u001b[0m                       Traceback (most recent call last)",
      "\u001b[1;32m<ipython-input-15-a85ef9153fe6>\u001b[0m in \u001b[0;36m<module>\u001b[1;34m\u001b[0m\n\u001b[0;32m      1\u001b[0m \u001b[1;31m# from all tickets, we need the session codes associated with a venue\u001b[0m\u001b[1;33m\u001b[0m\u001b[1;33m\u001b[0m\u001b[1;33m\u001b[0m\u001b[0m\n\u001b[0;32m      2\u001b[0m \u001b[1;32mfor\u001b[0m \u001b[0mv\u001b[0m \u001b[1;32min\u001b[0m \u001b[0mvenues\u001b[0m\u001b[1;33m:\u001b[0m\u001b[1;33m\u001b[0m\u001b[1;33m\u001b[0m\u001b[0m\n\u001b[1;32m----> 3\u001b[1;33m     \u001b[0mvenue_sessions\u001b[0m \u001b[1;33m=\u001b[0m \u001b[0mall_tickets\u001b[0m\u001b[1;33m.\u001b[0m\u001b[0miloc\u001b[0m\u001b[1;33m[\u001b[0m \u001b[0mall_tickets\u001b[0m\u001b[1;33m[\u001b[0m\u001b[1;34m'venue'\u001b[0m\u001b[1;33m]\u001b[0m \u001b[1;33m==\u001b[0m \u001b[0mv\u001b[0m \u001b[1;33m]\u001b[0m\u001b[1;33m\u001b[0m\u001b[1;33m\u001b[0m\u001b[0m\n\u001b[0m\u001b[0;32m      4\u001b[0m     \u001b[1;32mfor\u001b[0m \u001b[0mr\u001b[0m \u001b[1;32min\u001b[0m \u001b[0mvenue_sessions\u001b[0m\u001b[1;33m.\u001b[0m\u001b[0miterrows\u001b[0m\u001b[1;33m(\u001b[0m\u001b[1;33m)\u001b[0m\u001b[1;33m:\u001b[0m\u001b[1;33m\u001b[0m\u001b[1;33m\u001b[0m\u001b[0m\n\u001b[0;32m      5\u001b[0m         \u001b[0mprint\u001b[0m\u001b[1;33m(\u001b[0m\u001b[0mr\u001b[0m\u001b[1;33m)\u001b[0m\u001b[1;33m\u001b[0m\u001b[1;33m\u001b[0m\u001b[0m\n",
      "\u001b[1;32mc:\\users\\spata\\appdata\\local\\programs\\python\\python37\\lib\\site-packages\\pandas\\core\\indexing.py\u001b[0m in \u001b[0;36m__getitem__\u001b[1;34m(self, key)\u001b[0m\n\u001b[0;32m   1766\u001b[0m \u001b[1;33m\u001b[0m\u001b[0m\n\u001b[0;32m   1767\u001b[0m             \u001b[0mmaybe_callable\u001b[0m \u001b[1;33m=\u001b[0m \u001b[0mcom\u001b[0m\u001b[1;33m.\u001b[0m\u001b[0mapply_if_callable\u001b[0m\u001b[1;33m(\u001b[0m\u001b[0mkey\u001b[0m\u001b[1;33m,\u001b[0m \u001b[0mself\u001b[0m\u001b[1;33m.\u001b[0m\u001b[0mobj\u001b[0m\u001b[1;33m)\u001b[0m\u001b[1;33m\u001b[0m\u001b[1;33m\u001b[0m\u001b[0m\n\u001b[1;32m-> 1768\u001b[1;33m             \u001b[1;32mreturn\u001b[0m \u001b[0mself\u001b[0m\u001b[1;33m.\u001b[0m\u001b[0m_getitem_axis\u001b[0m\u001b[1;33m(\u001b[0m\u001b[0mmaybe_callable\u001b[0m\u001b[1;33m,\u001b[0m \u001b[0maxis\u001b[0m\u001b[1;33m=\u001b[0m\u001b[0maxis\u001b[0m\u001b[1;33m)\u001b[0m\u001b[1;33m\u001b[0m\u001b[1;33m\u001b[0m\u001b[0m\n\u001b[0m\u001b[0;32m   1769\u001b[0m \u001b[1;33m\u001b[0m\u001b[0m\n\u001b[0;32m   1770\u001b[0m     \u001b[1;32mdef\u001b[0m \u001b[0m_is_scalar_access\u001b[0m\u001b[1;33m(\u001b[0m\u001b[0mself\u001b[0m\u001b[1;33m,\u001b[0m \u001b[0mkey\u001b[0m\u001b[1;33m:\u001b[0m \u001b[0mTuple\u001b[0m\u001b[1;33m)\u001b[0m\u001b[1;33m:\u001b[0m\u001b[1;33m\u001b[0m\u001b[1;33m\u001b[0m\u001b[0m\n",
      "\u001b[1;32mc:\\users\\spata\\appdata\\local\\programs\\python\\python37\\lib\\site-packages\\pandas\\core\\indexing.py\u001b[0m in \u001b[0;36m_getitem_axis\u001b[1;34m(self, key, axis)\u001b[0m\n\u001b[0;32m   2122\u001b[0m \u001b[1;33m\u001b[0m\u001b[0m\n\u001b[0;32m   2123\u001b[0m         \u001b[1;32mif\u001b[0m \u001b[0mcom\u001b[0m\u001b[1;33m.\u001b[0m\u001b[0mis_bool_indexer\u001b[0m\u001b[1;33m(\u001b[0m\u001b[0mkey\u001b[0m\u001b[1;33m)\u001b[0m\u001b[1;33m:\u001b[0m\u001b[1;33m\u001b[0m\u001b[1;33m\u001b[0m\u001b[0m\n\u001b[1;32m-> 2124\u001b[1;33m             \u001b[0mself\u001b[0m\u001b[1;33m.\u001b[0m\u001b[0m_validate_key\u001b[0m\u001b[1;33m(\u001b[0m\u001b[0mkey\u001b[0m\u001b[1;33m,\u001b[0m \u001b[0maxis\u001b[0m\u001b[1;33m)\u001b[0m\u001b[1;33m\u001b[0m\u001b[1;33m\u001b[0m\u001b[0m\n\u001b[0m\u001b[0;32m   2125\u001b[0m             \u001b[1;32mreturn\u001b[0m \u001b[0mself\u001b[0m\u001b[1;33m.\u001b[0m\u001b[0m_getbool_axis\u001b[0m\u001b[1;33m(\u001b[0m\u001b[0mkey\u001b[0m\u001b[1;33m,\u001b[0m \u001b[0maxis\u001b[0m\u001b[1;33m=\u001b[0m\u001b[0maxis\u001b[0m\u001b[1;33m)\u001b[0m\u001b[1;33m\u001b[0m\u001b[1;33m\u001b[0m\u001b[0m\n\u001b[0;32m   2126\u001b[0m \u001b[1;33m\u001b[0m\u001b[0m\n",
      "\u001b[1;32mc:\\users\\spata\\appdata\\local\\programs\\python\\python37\\lib\\site-packages\\pandas\\core\\indexing.py\u001b[0m in \u001b[0;36m_validate_key\u001b[1;34m(self, key, axis)\u001b[0m\n\u001b[0;32m   1979\u001b[0m                 \u001b[1;32mif\u001b[0m \u001b[0mkey\u001b[0m\u001b[1;33m.\u001b[0m\u001b[0mindex\u001b[0m\u001b[1;33m.\u001b[0m\u001b[0minferred_type\u001b[0m \u001b[1;33m==\u001b[0m \u001b[1;34m\"integer\"\u001b[0m\u001b[1;33m:\u001b[0m\u001b[1;33m\u001b[0m\u001b[1;33m\u001b[0m\u001b[0m\n\u001b[0;32m   1980\u001b[0m                     raise NotImplementedError(\n\u001b[1;32m-> 1981\u001b[1;33m                         \u001b[1;34m\"iLocation based boolean \"\u001b[0m\u001b[1;33m\u001b[0m\u001b[1;33m\u001b[0m\u001b[0m\n\u001b[0m\u001b[0;32m   1982\u001b[0m                         \u001b[1;34m\"indexing on an integer type \"\u001b[0m\u001b[1;33m\u001b[0m\u001b[1;33m\u001b[0m\u001b[0m\n\u001b[0;32m   1983\u001b[0m                         \u001b[1;34m\"is not available\"\u001b[0m\u001b[1;33m\u001b[0m\u001b[1;33m\u001b[0m\u001b[0m\n",
      "\u001b[1;31mNotImplementedError\u001b[0m: iLocation based boolean indexing on an integer type is not available"
     ]
    }
   ],
   "source": [
    "# from all tickets, we need the session codes associated with a venue \n",
    "for v in venues: \n",
    "    venue_sessions = all_tickets.loc[ all_tickets['venue'] == v ]\n",
    "    for r in venue_sessions.iterrows(): \n",
    "        print(r)"
   ]
  },
  {
   "cell_type": "code",
   "execution_count": null,
   "metadata": {},
   "outputs": [],
   "source": []
  },
  {
   "cell_type": "code",
   "execution_count": null,
   "metadata": {},
   "outputs": [],
   "source": []
  },
  {
   "cell_type": "code",
   "execution_count": null,
   "metadata": {},
   "outputs": [],
   "source": []
  },
  {
   "cell_type": "code",
   "execution_count": null,
   "metadata": {},
   "outputs": [],
   "source": []
  },
  {
   "cell_type": "code",
   "execution_count": null,
   "metadata": {},
   "outputs": [],
   "source": []
  }
 ],
 "metadata": {
  "kernelspec": {
   "display_name": "Python 3",
   "language": "python",
   "name": "python3"
  },
  "language_info": {
   "codemirror_mode": {
    "name": "ipython",
    "version": 3
   },
   "file_extension": ".py",
   "mimetype": "text/x-python",
   "name": "python",
   "nbconvert_exporter": "python",
   "pygments_lexer": "ipython3",
   "version": "3.7.8"
  }
 },
 "nbformat": 4,
 "nbformat_minor": 4
}
