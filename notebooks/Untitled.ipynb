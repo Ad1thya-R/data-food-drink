{
 "cells": [
  {
   "cell_type": "code",
   "execution_count": 1,
   "metadata": {},
   "outputs": [],
   "source": [
    "import pandas as pd\n",
    "import numpy as np\n",
    "import matplotlib.pyplot as plt\n"
   ]
  },
  {
   "cell_type": "code",
   "execution_count": 9,
   "metadata": {},
   "outputs": [],
   "source": [
    "sold_tickets = pd.read_csv('london_ticket_sales.csv')"
   ]
  },
  {
   "cell_type": "code",
   "execution_count": 16,
   "metadata": {},
   "outputs": [],
   "source": [
    "all_tickets = pd.read_csv('london_tickets_for_sale.csv', encoding='latin1')"
   ]
  },
  {
   "cell_type": "code",
   "execution_count": 8,
   "metadata": {},
   "outputs": [],
   "source": [
    "infra = pd.read_csv('london_infrastructure_spending.csv', encoding='latin1')"
   ]
  },
  {
   "cell_type": "code",
   "execution_count": 23,
   "metadata": {},
   "outputs": [
    {
     "name": "stdout",
     "output_type": "stream",
     "text": [
      "646\n"
     ]
    }
   ],
   "source": [
    "session_codes = set(all_tickets['code'])\n",
    "print(len(session_codes))"
   ]
  },
  {
   "cell_type": "code",
   "execution_count": 28,
   "metadata": {
    "scrolled": true
   },
   "outputs": [
    {
     "data": {
      "text/plain": [
       "['Millennium Stadium; Cardiff',\n",
       " 'Olympic Park \\x96 Velodrome',\n",
       " 'Horse Guards Parade',\n",
       " 'Olympic Park - Handball Arena',\n",
       " 'Greenwich Park',\n",
       " 'Royal Artillery Barracks - Ground Pass',\n",
       " 'Hyde Park',\n",
       " 'Hadleigh Farm; Essex',\n",
       " 'Old Trafford; Manchester',\n",
       " 'St James\\x92 Park; Newcastle',\n",
       " 'Olympic Park \\x96 Water Polo Arena',\n",
       " \"Lord's Cricket Ground\",\n",
       " 'North Greenwich Arena',\n",
       " 'City of Coventry Stadium; Coventry',\n",
       " 'Wembley Arena',\n",
       " 'Olympic Park - BMX Circuit',\n",
       " 'Wimbledon - No.1 Court',\n",
       " 'Olympic Park \\x96 Hockey Centre',\n",
       " 'Weymouth and Portland; Dorset',\n",
       " 'Olympic Park \\x96 Aquatics Centre',\n",
       " 'Wimbledon - Ground Pass',\n",
       " 'Wembley Stadium',\n",
       " 'Hampden Park; Glasgow',\n",
       " 'Royal Artillery Barracks - Finals Hall & Ground Pass',\n",
       " 'Wimbledon - Centre Court',\n",
       " 'Olympic Park - Basketball Arena',\n",
       " 'Lee Valley White Water Centre; Hertfordshire',\n",
       " 'The Mall',\n",
       " 'Earls Court',\n",
       " 'ExCeL',\n",
       " 'Olympic Park - Olympic Stadium',\n",
       " 'Olympic Park \\x96 Handball Arena: Fencing; Olympic Park \\x96 Aquatics Centre: Swimming; Greenwich Park: Riding; combined event',\n",
       " 'Eton Dorney; Buckinghamshire']"
      ]
     },
     "execution_count": 28,
     "metadata": {},
     "output_type": "execute_result"
    }
   ],
   "source": [
    "venues = set(all_tickets['venue'])\n",
    "list(venues)"
   ]
  },
  {
   "cell_type": "code",
   "execution_count": 21,
   "metadata": {},
   "outputs": [
    {
     "data": {
      "text/html": [
       "<div>\n",
       "<style scoped>\n",
       "    .dataframe tbody tr th:only-of-type {\n",
       "        vertical-align: middle;\n",
       "    }\n",
       "\n",
       "    .dataframe tbody tr th {\n",
       "        vertical-align: top;\n",
       "    }\n",
       "\n",
       "    .dataframe thead th {\n",
       "        text-align: right;\n",
       "    }\n",
       "</style>\n",
       "<table border=\"1\" class=\"dataframe\">\n",
       "  <thead>\n",
       "    <tr style=\"text-align: right;\">\n",
       "      <th></th>\n",
       "      <th>expense_category</th>\n",
       "      <th>breakdown</th>\n",
       "      <th>baseline_budget</th>\n",
       "      <th>31/12/2011_forecast</th>\n",
       "      <th>31/03/2012_forecast</th>\n",
       "      <th>variance</th>\n",
       "    </tr>\n",
       "  </thead>\n",
       "  <tbody>\n",
       "    <tr>\n",
       "      <th>9</th>\n",
       "      <td>Venues</td>\n",
       "      <td>Stadium</td>\n",
       "      <td>496.0</td>\n",
       "      <td>431</td>\n",
       "      <td>428</td>\n",
       "      <td>-3.0</td>\n",
       "    </tr>\n",
       "    <tr>\n",
       "      <th>10</th>\n",
       "      <td>Venues</td>\n",
       "      <td>Aquatics</td>\n",
       "      <td>214.0</td>\n",
       "      <td>253</td>\n",
       "      <td>251</td>\n",
       "      <td>-2.0</td>\n",
       "    </tr>\n",
       "    <tr>\n",
       "      <th>11</th>\n",
       "      <td>Venues</td>\n",
       "      <td>Velopark</td>\n",
       "      <td>72.0</td>\n",
       "      <td>86</td>\n",
       "      <td>87</td>\n",
       "      <td>1.0</td>\n",
       "    </tr>\n",
       "    <tr>\n",
       "      <th>12</th>\n",
       "      <td>Venues</td>\n",
       "      <td>Handball</td>\n",
       "      <td>55.0</td>\n",
       "      <td>41</td>\n",
       "      <td>41</td>\n",
       "      <td>0.0</td>\n",
       "    </tr>\n",
       "    <tr>\n",
       "      <th>13</th>\n",
       "      <td>Venues</td>\n",
       "      <td>Basketball</td>\n",
       "      <td>58.0</td>\n",
       "      <td>40</td>\n",
       "      <td>40</td>\n",
       "      <td>0.0</td>\n",
       "    </tr>\n",
       "    <tr>\n",
       "      <th>14</th>\n",
       "      <td>Venues</td>\n",
       "      <td>Other Olympic Park Venues</td>\n",
       "      <td>59.0</td>\n",
       "      <td>101</td>\n",
       "      <td>101</td>\n",
       "      <td>0.0</td>\n",
       "    </tr>\n",
       "    <tr>\n",
       "      <th>15</th>\n",
       "      <td>Venues</td>\n",
       "      <td>Non-Olympic Park Venues</td>\n",
       "      <td>84.0</td>\n",
       "      <td>111</td>\n",
       "      <td>103</td>\n",
       "      <td>-8.0</td>\n",
       "    </tr>\n",
       "    <tr>\n",
       "      <th>16</th>\n",
       "      <td>Venues</td>\n",
       "      <td>Total Venues</td>\n",
       "      <td>1038.0</td>\n",
       "      <td>1063</td>\n",
       "      <td>1051</td>\n",
       "      <td>-12.0</td>\n",
       "    </tr>\n",
       "  </tbody>\n",
       "</table>\n",
       "</div>"
      ],
      "text/plain": [
       "   expense_category                  breakdown  baseline_budget  \\\n",
       "9            Venues                    Stadium            496.0   \n",
       "10           Venues                   Aquatics            214.0   \n",
       "11           Venues                   Velopark             72.0   \n",
       "12           Venues                   Handball             55.0   \n",
       "13           Venues                 Basketball             58.0   \n",
       "14           Venues  Other Olympic Park Venues             59.0   \n",
       "15           Venues    Non-Olympic Park Venues             84.0   \n",
       "16           Venues               Total Venues           1038.0   \n",
       "\n",
       "    31/12/2011_forecast  31/03/2012_forecast  variance  \n",
       "9                   431                  428      -3.0  \n",
       "10                  253                  251      -2.0  \n",
       "11                   86                   87       1.0  \n",
       "12                   41                   41       0.0  \n",
       "13                   40                   40       0.0  \n",
       "14                  101                  101       0.0  \n",
       "15                  111                  103      -8.0  \n",
       "16                 1063                 1051     -12.0  "
      ]
     },
     "execution_count": 21,
     "metadata": {},
     "output_type": "execute_result"
    }
   ],
   "source": [
    "infra.loc[infra['expense_category'] == 'Venues']"
   ]
  },
  {
   "cell_type": "code",
   "execution_count": null,
   "metadata": {},
   "outputs": [],
   "source": []
  },
  {
   "cell_type": "code",
   "execution_count": null,
   "metadata": {},
   "outputs": [],
   "source": []
  },
  {
   "cell_type": "code",
   "execution_count": null,
   "metadata": {},
   "outputs": [],
   "source": []
  },
  {
   "cell_type": "code",
   "execution_count": null,
   "metadata": {},
   "outputs": [],
   "source": []
  }
 ],
 "metadata": {
  "kernelspec": {
   "display_name": "Python 3",
   "language": "python",
   "name": "python3"
  },
  "language_info": {
   "codemirror_mode": {
    "name": "ipython",
    "version": 3
   },
   "file_extension": ".py",
   "mimetype": "text/x-python",
   "name": "python",
   "nbconvert_exporter": "python",
   "pygments_lexer": "ipython3",
   "version": "3.7.8"
  }
 },
 "nbformat": 4,
 "nbformat_minor": 4
}
